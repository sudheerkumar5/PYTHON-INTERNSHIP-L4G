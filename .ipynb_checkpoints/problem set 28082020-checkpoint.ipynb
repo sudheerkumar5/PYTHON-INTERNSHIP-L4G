{
 "cells": [
  {
   "cell_type": "markdown",
   "metadata": {},
   "source": [
    "#### PROBLEM STATEMENT 1"
   ]
  },
  {
   "cell_type": "markdown",
   "metadata": {},
   "source": [
    "Function to print all numbers divisible by 6 and not a factor of 100 in a given range(lb, ub) inclusive\n"
   ]
  },
  {
   "cell_type": "code",
   "execution_count": 1,
   "metadata": {},
   "outputs": [
    {
     "data": {
      "text/plain": [
       "[6, 12, 18, 24, 30, 36, 42, 48, 54, 60, 66, 72, 78, 84]"
      ]
     },
     "execution_count": 1,
     "metadata": {},
     "output_type": "execute_result"
    }
   ],
   "source": [
    "def isdivisiblebysix(lb,ub):\n",
    "    x = []\n",
    "    for i in range(lb,ub+1):\n",
    "        if(i%6==0 and 100 % i!=0):\n",
    "                x.append(i)                   \n",
    "    return x\n",
    "\n",
    "isdivisiblebysix(5,88)"
   ]
  },
  {
   "cell_type": "markdown",
   "metadata": {},
   "source": [
    "#### PROBLEM STATEMENT 2"
   ]
  },
  {
   "cell_type": "markdown",
   "metadata": {},
   "source": [
    "Function to find the average of cubes of all even numbers in a given range(lb, ub) inclusive\n"
   ]
  },
  {
   "cell_type": "code",
   "execution_count": 6,
   "metadata": {},
   "outputs": [
    {
     "data": {
      "text/plain": [
       "57.6"
      ]
     },
     "execution_count": 6,
     "metadata": {},
     "output_type": "execute_result"
    }
   ],
   "source": [
    "def Averageofcubeofevens(lb,ub):\n",
    "    sum = 0\n",
    "    count = 0\n",
    "    for i in range(lb,ub+1):\n",
    "        count+=1\n",
    "        if(i%2==0):\n",
    "            sum = sum+(i**3)\n",
    "    average = sum/count\n",
    "    return average\n",
    "\n",
    "Averageofcubeofevens(2,6)"
   ]
  },
  {
   "cell_type": "markdown",
   "metadata": {},
   "source": [
    "#### PROBLEM STATEMENT 3"
   ]
  },
  {
   "cell_type": "markdown",
   "metadata": {},
   "source": [
    "Function to generate the list of factors for a given number\n"
   ]
  },
  {
   "cell_type": "code",
   "execution_count": 8,
   "metadata": {},
   "outputs": [
    {
     "data": {
      "text/plain": [
       "[1, 5, 25]"
      ]
     },
     "execution_count": 8,
     "metadata": {},
     "output_type": "execute_result"
    }
   ],
   "source": [
    "def factorslist(x):\n",
    "     factors = []\n",
    "    for i in range(1,x+1):\n",
    "        if(x % i == 0):\n",
    "            factors.append(i)\n",
    "    return factors\n",
    "\n",
    "factorslist(25)"
   ]
  },
  {
   "cell_type": "markdown",
   "metadata": {},
   "source": [
    "#### PROBLEM STATEMENT 4"
   ]
  },
  {
   "cell_type": "markdown",
   "metadata": {},
   "source": [
    "Function to calculate the factorial of a given number\n"
   ]
  },
  {
   "cell_type": "code",
   "execution_count": 12,
   "metadata": {},
   "outputs": [
    {
     "data": {
      "text/plain": [
       "120"
      ]
     },
     "execution_count": 12,
     "metadata": {},
     "output_type": "execute_result"
    }
   ],
   "source": [
    "def factorialofgivennum(x):\n",
    "    factorial = 1\n",
    "    if x == 0 or x == 1:\n",
    "        return factorial\n",
    "    else:\n",
    "        for i in range(2, x + 1):\n",
    "            factorial = factorial * i\n",
    "        return factorial\n",
    "    \n",
    "factorialofgivennum(5)"
   ]
  },
  {
   "cell_type": "markdown",
   "metadata": {},
   "source": [
    "#### PROBLEM STATEMENT 5"
   ]
  },
  {
   "cell_type": "markdown",
   "metadata": {},
   "source": [
    "Function to check if a given number is Prime\n"
   ]
  },
  {
   "cell_type": "code",
   "execution_count": 24,
   "metadata": {},
   "outputs": [
    {
     "name": "stdout",
     "output_type": "stream",
     "text": [
      "prime\n"
     ]
    }
   ],
   "source": [
    "def Isprime(x):\n",
    "    if x > 1:\n",
    "        for i in range(2,x):\n",
    "            if(x % i == 0):\n",
    "                print(\"Not prime\")\n",
    "                break\n",
    "        else:\n",
    "            print(\"prime\")\n",
    "    else:\n",
    "         print(\"Not prime\")\n",
    "            \n",
    "Isprime(47)         "
   ]
  },
  {
   "cell_type": "markdown",
   "metadata": {},
   "source": [
    "#### PROBLEM STATEMENT 6"
   ]
  },
  {
   "cell_type": "markdown",
   "metadata": {},
   "source": [
    "Function to calculate the average first N Prime numbers\n"
   ]
  },
  {
   "cell_type": "code",
   "execution_count": 32,
   "metadata": {},
   "outputs": [],
   "source": [
    "def isprimes(n):\n",
    "    if n>1:\n",
    "        for i in range(2,n):\n",
    "            if(n%i==0):\n",
    "                return False\n",
    "                break\n",
    "        else:\n",
    "            return True\n",
    "    else:\n",
    "         return False\n",
    "def avgerageofprimes(N):\n",
    "    c=0\n",
    "    start=2\n",
    "    s=0\n",
    "    while(True):\n",
    "        if isprime(start):\n",
    "            c+=1\n",
    "            s+=start\n",
    "        if c==N:\n",
    "            break\n",
    "        else:\n",
    "            start+=1\n",
    "    return s/N\n"
   ]
  },
  {
   "cell_type": "markdown",
   "metadata": {},
   "source": [
    "#### PROBLEM STATEMENT 7"
   ]
  },
  {
   "cell_type": "markdown",
   "metadata": {},
   "source": [
    "Function to generate all Perfect numbers in a given range\n"
   ]
  },
  {
   "cell_type": "code",
   "execution_count": 34,
   "metadata": {},
   "outputs": [
    {
     "name": "stdout",
     "output_type": "stream",
     "text": [
      "6\n",
      "28\n"
     ]
    }
   ],
   "source": [
    "def isperfectnumber(x):\n",
    "    sum=0\n",
    "    for i in range(1, x):\n",
    "        if(x % i == 0):\n",
    "            sum += i\n",
    "    if (sum == x):\n",
    "        return True\n",
    "    else:\n",
    "        return False\n",
    "    \n",
    "def perfectornot(lb,ub):\n",
    "    for i in range(lb, ub + 1):\n",
    "        if isperfectnumber(i):\n",
    "            print(i)\n",
    "            \n",
    "perfectornot(5,50)"
   ]
  },
  {
   "cell_type": "markdown",
   "metadata": {},
   "source": [
    "### ADVANCED PROBLEM STATEMENTS 8\n",
    "#### PROBLEMS STATEMENT i"
   ]
  },
  {
   "cell_type": "markdown",
   "metadata": {},
   "source": [
    "Function to calculate average of all factorials in a given range\n"
   ]
  },
  {
   "cell_type": "code",
   "execution_count": 36,
   "metadata": {},
   "outputs": [
    {
     "name": "stdout",
     "output_type": "stream",
     "text": [
      "6.463475245920221e+23\n"
     ]
    }
   ],
   "source": [
    "def factorialnum(n):\n",
    "    factorial=1\n",
    "    for i in range(1,n+1):\n",
    "        factorial = factorial * i\n",
    "    return factorial\n",
    "\n",
    "def averageoffactorial(N):\n",
    "    s = 0\n",
    "    for j in range(1,N+1):\n",
    "        k = factorialnum(j)\n",
    "        s = s + k\n",
    "    average = s / N\n",
    "    print(average)\n",
    "    \n",
    "averageoffactorial(25)"
   ]
  },
  {
   "cell_type": "markdown",
   "metadata": {},
   "source": [
    "#### PROBLEMS STATEMENT ii"
   ]
  },
  {
   "cell_type": "markdown",
   "metadata": {},
   "source": [
    "Function to generate N odd armstrong numbers "
   ]
  },
  {
   "cell_type": "code",
   "execution_count": 3,
   "metadata": {},
   "outputs": [
    {
     "data": {
      "text/plain": [
       "[1, 3, 5, 7, 9, 153, 371, 407]"
      ]
     },
     "execution_count": 3,
     "metadata": {},
     "output_type": "execute_result"
    }
   ],
   "source": [
    "def IsArmstrong(n):\n",
    "    if n < 1:\n",
    "        return False\n",
    "    digits = len(str(n))\n",
    "    s = 0\n",
    "    for d in str(n):\n",
    "        s += int(d)**digits \n",
    "    if s == n and n % 2 != 0:\n",
    "        return True\n",
    "    return False\n",
    "\n",
    "def generatenOddArmstrong(lb,ub):\n",
    "    armstrong = []\n",
    "    for i in range(lb,ub):\n",
    "         if IsArmstrong(i):\n",
    "            armstrong.append(i)\n",
    "    return armstrong\n",
    "                \n",
    "generatenOddArmstrong(1,10000)"
   ]
  },
  {
   "cell_type": "markdown",
   "metadata": {},
   "source": [
    "#### PROBLEMS STATEMENT iii"
   ]
  },
  {
   "cell_type": "markdown",
   "metadata": {},
   "source": [
    "Function to generate Multiplication table for a number in a given range\n"
   ]
  },
  {
   "cell_type": "code",
   "execution_count": 4,
   "metadata": {},
   "outputs": [
    {
     "name": "stdout",
     "output_type": "stream",
     "text": [
      "100   X  1  =  100\n",
      "100   X  2  =  200\n",
      "100   X  3  =  300\n",
      "100   X  4  =  400\n",
      "100   X  5  =  500\n",
      "100   X  6  =  600\n"
     ]
    }
   ],
   "source": [
    "def multiplicationtable(x,y,z):\n",
    "    for i in range(y,z+1):\n",
    "        print( x, \"  X \", i,\" = \", x*i)\n",
    "        \n",
    "multiplicationtable(100,1,6)"
   ]
  }
 ],
 "metadata": {
  "kernelspec": {
   "display_name": "Python 3",
   "language": "python",
   "name": "python3"
  },
  "language_info": {
   "codemirror_mode": {
    "name": "ipython",
    "version": 3
   },
   "file_extension": ".py",
   "mimetype": "text/x-python",
   "name": "python",
   "nbconvert_exporter": "python",
   "pygments_lexer": "ipython3",
   "version": "3.8.3"
  }
 },
 "nbformat": 4,
 "nbformat_minor": 4
}
