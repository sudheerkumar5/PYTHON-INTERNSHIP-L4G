{
 "cells": [
  {
   "cell_type": "markdown",
   "metadata": {},
   "source": [
    "#### List Comprehensions\n",
    "\n",
    "-generate all numbers in a range"
   ]
  },
  {
   "cell_type": "code",
   "execution_count": 9,
   "metadata": {},
   "outputs": [
    {
     "data": {
      "text/plain": [
       "[1, 2, 3, 4, 5, 6, 7, 8, 9]"
      ]
     },
     "execution_count": 9,
     "metadata": {},
     "output_type": "execute_result"
    }
   ],
   "source": [
    "def generateNumberRange(lb,ub):\n",
    "    numbers = []\n",
    "    for i in range(lb,ub):\n",
    "          numbers.append(i)\n",
    "    return numbers\n",
    "                   \n",
    "generateNumberRange(1,10)"
   ]
  },
  {
   "cell_type": "markdown",
   "metadata": {},
   "source": [
    "-generate all numbers in a range using List Comprehension"
   ]
  },
  {
   "cell_type": "code",
   "execution_count": 10,
   "metadata": {},
   "outputs": [
    {
     "data": {
      "text/plain": [
       "[1, 2, 3, 4, 5, 6, 7, 8, 9]"
      ]
     },
     "execution_count": 10,
     "metadata": {},
     "output_type": "execute_result"
    }
   ],
   "source": [
    "def generateNumberRange(lb,ub):\n",
    "    return [i for i in range(lb,ub)]\n",
    "\n",
    "generateNumberRange(1,10)"
   ]
  },
  {
   "cell_type": "markdown",
   "metadata": {},
   "source": [
    "-Generate sum of all factorials in a given range using list comprehension"
   ]
  },
  {
   "cell_type": "code",
   "execution_count": 6,
   "metadata": {},
   "outputs": [
    {
     "data": {
      "text/plain": [
       "[11, 22, 33, 44, 55, 66, 77, 88, 99, 110, 121, 132, 143]"
      ]
     },
     "execution_count": 6,
     "metadata": {},
     "output_type": "execute_result"
    }
   ],
   "source": [
    "def generateMultiples11(lb,ub):\n",
    "    return [i for i in range(lb,ub) if i % 11 == 0]\n",
    "\n",
    "generateMultiples11(10,150)"
   ]
  },
  {
   "cell_type": "markdown",
   "metadata": {},
   "source": [
    "-Generate sum of all factorials in a given range using list comprehension"
   ]
  },
  {
   "cell_type": "code",
   "execution_count": 8,
   "metadata": {},
   "outputs": [
    {
     "data": {
      "text/plain": [
       "31035053229546199656252032972759319953190362094566672920420940312"
      ]
     },
     "execution_count": 8,
     "metadata": {},
     "output_type": "execute_result"
    }
   ],
   "source": [
    "def factorialofgivennum(x):\n",
    "    factorial = 1\n",
    "    if x == 0 or x == 1:\n",
    "        return factorial\n",
    "    else:\n",
    "        for i in range(2, x + 1):\n",
    "            factorial = factorial * i\n",
    "        return factorial\n",
    "    \n",
    "def sumFactorials(lb,ub):\n",
    "    return sum([factorialofgivennum(i) for i in range(lb,ub)])\n",
    "\n",
    "sumFactorials(2,51)"
   ]
  }
 ],
 "metadata": {
  "kernelspec": {
   "display_name": "Python 3",
   "language": "python",
   "name": "python3"
  },
  "language_info": {
   "codemirror_mode": {
    "name": "ipython",
    "version": 3
   },
   "file_extension": ".py",
   "mimetype": "text/x-python",
   "name": "python",
   "nbconvert_exporter": "python",
   "pygments_lexer": "ipython3",
   "version": "3.8.3"
  }
 },
 "nbformat": 4,
 "nbformat_minor": 4
}
