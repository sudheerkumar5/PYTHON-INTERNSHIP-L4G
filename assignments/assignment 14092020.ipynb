{
 "cells": [
  {
   "cell_type": "markdown",
   "metadata": {},
   "source": [
    "### Problem Set 1"
   ]
  },
  {
   "cell_type": "markdown",
   "metadata": {},
   "source": [
    "Frequency Distribution of all words in a text file arranged in dictionary order\n",
    "\n",
    "   - Sample Input:\n",
    "        Python java data ML ML data\n",
    "   - Sample Output:\n",
    "        data : 2\n",
    "        Java : 1\n",
    "        ML : 2\n",
    "        Python : 1\n"
   ]
  },
  {
   "cell_type": "code",
   "execution_count": 34,
   "metadata": {},
   "outputs": [
    {
     "name": "stdout",
     "output_type": "stream",
     "text": [
      "Python : 1\n",
      "java : 1\n",
      "data : 2\n",
      "ML : 2\n"
     ]
    }
   ],
   "source": [
    "def FreqDisofAllWords(filename):\n",
    "    text = open(filename, \"r\") \n",
    "    d = dict() \n",
    "    for line in text: \n",
    "        line = line.strip() \n",
    "        words = line.split(\" \") \n",
    "    for word in words: \n",
    "        if word in d: \n",
    "            d[word] = d[word] + 1\n",
    "        else: \n",
    "            d[word] = 1\n",
    "  \n",
    "    for key in list(d.keys()): \n",
    "        print(key, \":\", d[key])\n",
    "filename = \"word frequency/word.txt\"\n",
    "FreqDisofAllWords(filename)"
   ]
  },
  {
   "cell_type": "markdown",
   "metadata": {},
   "source": [
    "### Problem Set 2"
   ]
  },
  {
   "cell_type": "markdown",
   "metadata": {},
   "source": [
    "Find and Replace application\n",
    "    -Count the total number of occurrences of a word\n",
    "    -Check If a word is existing in a file\n",
    "    -Replace all occurrences of a word with another word\n"
   ]
  },
  {
   "cell_type": "code",
   "execution_count": null,
   "metadata": {},
   "outputs": [],
   "source": [
    "def WordCount(filename):\n",
    "    file = open(filename, \"r\")\n",
    "    data = file.read()\n",
    "    occurrences = data.count(\"Python\")\n",
    "    return occurrences\n",
    "filename = \"Samplefile/sample.txt\"\n",
    "WordCount(filename)"
   ]
  },
  {
   "cell_type": "code",
   "execution_count": 133,
   "metadata": {},
   "outputs": [
    {
     "name": "stdout",
     "output_type": "stream",
     "text": [
      "enter a word you want to search in file: \n",
      "word found\n"
     ]
    }
   ],
   "source": [
    "def WordSearch(filename):\n",
    "    with open(filename) as file:\n",
    "        contents = file.read()\n",
    "        search_word = input(\"enter a word you want to search in file: \")\n",
    "    if search_word in contents:\n",
    "        print ('word found')\n",
    "    else:\n",
    "        print ('word not found')\n",
    "\n",
    "filename = \"Samplefile/sample.txt\"\n",
    "WordSearch(filename)"
   ]
  },
  {
   "cell_type": "code",
   "execution_count": 134,
   "metadata": {},
   "outputs": [
    {
     "data": {
      "text/plain": [
       "'success'"
      ]
     },
     "execution_count": 134,
     "metadata": {},
     "output_type": "execute_result"
    }
   ],
   "source": [
    "def ReplaceWord(filename):\n",
    "    file = open(filename, \"r\")\n",
    "    data = file.read()\n",
    "    data = data.replace('Python', 'PYTHON')\n",
    "    file.close()\n",
    "    file = open(filename, \"w\")\n",
    "    file.write(data)\n",
    "    file.close()\n",
    "    return (\"success\")\n",
    "filename = \"Samplefile/sample.txt\"\n",
    "ReplaceWord(filename)"
   ]
  },
  {
   "cell_type": "markdown",
   "metadata": {},
   "source": [
    "### Problem Set 3"
   ]
  },
  {
   "cell_type": "markdown",
   "metadata": {},
   "source": [
    "Checking for Anagrams(Strings consisting of same character set and character frequency)\n",
    "    -  abcabc       aabbcc -> True\n",
    "    -  abcd         abcdd -> False\n"
   ]
  },
  {
   "cell_type": "code",
   "execution_count": 199,
   "metadata": {},
   "outputs": [
    {
     "data": {
      "text/plain": [
       "True"
      ]
     },
     "execution_count": 199,
     "metadata": {},
     "output_type": "execute_result"
    }
   ],
   "source": [
    "def CheckForAnagrams(str1, str2):  \n",
    "    length_of_str1 = len(str1)  \n",
    "    length_of_str2 = len(str2)  \n",
    "    if length_of_str1 != length_of_str2:  \n",
    "        return False\n",
    "    str1 = sorted(str1) \n",
    "    str2 = sorted(str2) \n",
    "    for i in range(0, length_of_str1):  \n",
    "        if str1[i] != str2[i]:  \n",
    "            return 0\n",
    "        return True\n",
    "str1 = \"abcabc\"\n",
    "str2 = \"aabbcc\"\n",
    "\n",
    "CheckForAnagrams(str1, str2)"
   ]
  },
  {
   "cell_type": "markdown",
   "metadata": {},
   "source": [
    "### Or"
   ]
  },
  {
   "cell_type": "code",
   "execution_count": 198,
   "metadata": {},
   "outputs": [
    {
     "data": {
      "text/plain": [
       "False"
      ]
     },
     "execution_count": 198,
     "metadata": {},
     "output_type": "execute_result"
    }
   ],
   "source": [
    "from collections import Counter\n",
    "\n",
    "def CheckForAnagrams(str1,str2):\n",
    "    C = Counter(str1)\n",
    "    c = Counter(str2)\n",
    "    if(C == c):\n",
    "        return True\n",
    "    else:\n",
    "         return False\n",
    "        \n",
    "str1 = \"abcd\"\n",
    "str2 = \"abcdd\"\n",
    "CheckForAnagrams(str1,str2)"
   ]
  },
  {
   "cell_type": "markdown",
   "metadata": {},
   "source": [
    "### Problem Set 4"
   ]
  },
  {
   "cell_type": "markdown",
   "metadata": {},
   "source": [
    "Minimum character additions/deletions to make two strings as Anagrams\n",
    "    - abcabc\t\t   aabbcc -> 0\n",
    "    - abcd              abcdd -> 1\n",
    "    - 123abcbca  456aaabbbccc -> 9\n"
   ]
  },
  {
   "cell_type": "code",
   "execution_count": 5,
   "metadata": {},
   "outputs": [
    {
     "name": "stdout",
     "output_type": "stream",
     "text": [
      "0\n"
     ]
    }
   ],
   "source": [
    "from collections import Counter \n",
    "def MinCharToAddOrDEl(string1, string2):\n",
    "    \n",
    "    D = Counter(string2) - Counter(string1)\n",
    "    d = Counter(string1) - Counter(string2)\n",
    "    \n",
    "    print(len(D) + len(d))\n",
    "string1 = \"abcabc\"\n",
    "string2 = \"aabbcc\"\n",
    "\n",
    "MinCharToAddOrDEl(string1, string2)"
   ]
  },
  {
   "cell_type": "code",
   "execution_count": 3,
   "metadata": {},
   "outputs": [
    {
     "name": "stdout",
     "output_type": "stream",
     "text": [
      "1\n"
     ]
    }
   ],
   "source": [
    " from collections import Counter \n",
    "def MinCharToAddOrDEl(string1, string2):\n",
    "    \n",
    "    D = Counter(string2) - Counter(string1)\n",
    "    d = Counter(string1) - Counter(string2)\n",
    "    \n",
    "    print(len(D) + len(d))\n",
    "str1 =\"abcd\" \n",
    "str2 =\"abcdd\"\n",
    "MinCharToAddOrDEl(str1, str2)"
   ]
  },
  {
   "cell_type": "code",
   "execution_count": 4,
   "metadata": {},
   "outputs": [
    {
     "name": "stdout",
     "output_type": "stream",
     "text": [
      "9\n"
     ]
    }
   ],
   "source": [
    "from collections import Counter \n",
    "def MinCharToAddOrDEl(string1, string2):\n",
    "    \n",
    "    D = Counter(string2) - Counter(string1)\n",
    "    d = Counter(string1) - Counter(string2)\n",
    "    \n",
    "    print(len(D) + len(d))\n",
    "str1 =\"123abcbca\" \n",
    "str2 =\"456aaabbbccc\"\n",
    "MinCharToAddOrDEl(str1, str2)"
   ]
  },
  {
   "cell_type": "markdown",
   "metadata": {},
   "source": [
    "### Problem Set 5"
   ]
  },
  {
   "cell_type": "markdown",
   "metadata": {},
   "source": [
    "        Australian ballots require that voters rank all the candidates in order of choice.Initially only the first choices are counted, and if one candidate receives more than 50% of the vote then that candidate is elected. However, if no candidate receives more than 50%, all candidates tied for the lowest numbe of votes are eliminated. Ballots ranking these candidates first are recounted in favor of their highest-ranked non-eliminated candidate. This process of eliminating the weakest candidates and counting their ballots in favor of the preferred non-eliminated candidate continues until one candidate receives more than 50% of the vote, or until all remaining candidates are tied.\n",
    "\n",
    "Input:\n",
    "        The input begins with a single positive integer on a line by itself indicating the number of cases following, each as described below. This line is followed by a blank line. There is also a blank line between two consecutive inputs. The first line of each case is an integer n ≤ 20 indicating the number of candidates. The next n lines consist of the names of the candidates in order, each up to 80 characters in length and containing any printable characters. Up to 1,000 lines follow, each containing the contents of a ballot. Each ballot contains the numbers from 1 to n in some order. The first number indicates the candidate of first choice; the second number indicates candidate of second choice, and so on.\n",
    "        \n",
    "Output:\n",
    "        The output of each test case consists of either a single line containing the name of the winner or several lines containing the names of all candidates who are tied. The output of each two consecutive cases are separated by a blank line.\n",
    "        \n",
    "     Sample Input                                  Sample Output\n",
    "     \n",
    "        1                                             John Doe\n",
    "        3\n",
    "        John Doe\n",
    "        Jane Smith\n",
    "        Jane Austen\n",
    "        123\n",
    "        213\n",
    "        231\n",
    "        123\n",
    "        312"
   ]
  },
  {
   "cell_type": "code",
   "execution_count": null,
   "metadata": {},
   "outputs": [],
   "source": []
  },
  {
   "cell_type": "code",
   "execution_count": null,
   "metadata": {},
   "outputs": [],
   "source": []
  }
 ],
 "metadata": {
  "kernelspec": {
   "display_name": "Python 3",
   "language": "python",
   "name": "python3"
  },
  "language_info": {
   "codemirror_mode": {
    "name": "ipython",
    "version": 3
   },
   "file_extension": ".py",
   "mimetype": "text/x-python",
   "name": "python",
   "nbconvert_exporter": "python",
   "pygments_lexer": "ipython3",
   "version": "3.8.3"
  }
 },
 "nbformat": 4,
 "nbformat_minor": 4
}
