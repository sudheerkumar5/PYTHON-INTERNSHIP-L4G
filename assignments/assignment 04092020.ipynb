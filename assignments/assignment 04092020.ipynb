{
 "cells": [
  {
   "cell_type": "markdown",
   "metadata": {},
   "source": [
    "### Problem Statement 1"
   ]
  },
  {
   "cell_type": "markdown",
   "metadata": {},
   "source": [
    "-   Consider the following algorithm to generate a sequence of numbers. Start with an integer n. If n is even, divide by 2. If n is odd, multiply by 3 and add 1. Repeat this process with the new value of n, terminating when n = 1. For example, the following sequence of numbers will be generated for n = 22:\n",
    "\n",
    "  22 11 34 17 52 26 13 40 20 10 5 16 8 4 2 1\n",
    "\n",
    "    It is conjectured (but not yet proven) that this algorithm will terminate at n = 1 forevery integer n. Still, the conjecture holds for all integers up to at least 1, 000, 000.For an input n, the cycle-length of n is the number of numbers generated up to and including the 1. In the example above, the cycle length of 22 is 16. Given any two numbers i and j, you are to determine the maximum cycle length over all numbers between i and j, including both endpoints.\n",
    "    \n",
    "Input:\n",
    "\n",
    "    The input will consist of a series of pairs of integers i and j, one pair of integers per line. All integers will be less than 1,000,000 and greater than 0.\n",
    "    \n",
    "Output:\n",
    "\n",
    "    For each pair of input integers i and j, output i, j in the same order in which they appeared in the input and then the maximum cycle length for integers between and including i and j. These three numbers should be separated by one space, with all three numbers on one line and with one line of output for each line of input.\n",
    "\n",
    "                Sample Input        Sample Output\n",
    "\n",
    "                    1 10                 20\n",
    "\n",
    "                  100 200                125\n",
    "\n",
    "                   201 210               89\n",
    "\n",
    "                  900 1000               174\n",
    "\n",
    "\n",
    "\n",
    "\n",
    "\n",
    "\n"
   ]
  },
  {
   "cell_type": "code",
   "execution_count": 1,
   "metadata": {},
   "outputs": [
    {
     "data": {
      "text/plain": [
       "171"
      ]
     },
     "execution_count": 1,
     "metadata": {},
     "output_type": "execute_result"
    }
   ],
   "source": [
    "def CycleLen(i, j):\n",
    "    c = 1 \n",
    "    count = 1\n",
    "    for n in range(i, j+1):\n",
    "        count = 1\n",
    "        while n != 1:\n",
    "            if n % 2 == 0:\n",
    "                n = n/2\n",
    "            else:\n",
    "                n = (3 * n) + 1\n",
    "            count += 1\n",
    "        c = max(c, count)\n",
    "    return c\n",
    "\n",
    "CycleLen(600,800)"
   ]
  },
  {
   "cell_type": "code",
   "execution_count": null,
   "metadata": {},
   "outputs": [],
   "source": []
  },
  {
   "cell_type": "markdown",
   "metadata": {},
   "source": [
    "### Problem Statement 2"
   ]
  },
  {
   "cell_type": "markdown",
   "metadata": {},
   "source": [
    "-Have you ever played Minesweeper? This cute little game comes with a certain operating system whose name we can’t remember. The goal of the game is to find where all the mines are located within a M × N field.The game shows a number in a square which tells you how many mines there are adjacent to that square. Each square has at most eight adjacent squares. The 4×4 field on the left contains two mines, each represented by a “*” character. If we represent the same field by the hint numbers described above, we end up with the field on the right:\n",
    "\n",
    "*...\n",
    "....\n",
    ".*..\n",
    "....\n",
    "\n",
    "*100\n",
    "2210\n",
    "1*10\n",
    "1110\n",
    "\n",
    "Input:\n",
    "\n",
    "    The input will consist of an arbitrary number of fields. The first line of each fieldcontains two integers n and m (0 < n, m ≤ 100) which stand for the number of linesand columns of the field, respectively. Each of the next n lines contains exactly m characters, representing the field.Safe squares are denoted by “.” and mine squares by “*,” both without the quotes.The first field line where n = m = 0 represents the end of input and should not be processed.\n",
    "\n",
    "Output:\n",
    "\n",
    "\n",
    "    For each field, print the message Field #x: on a line alone, where x stands for the number of the field starting from 1. The next n lines should contain the field with the“.” characters replaced by the number of mines adjacent to that square. There must be an empty line between field outputs.\n",
    "\n",
    "Sample Input:\n",
    "\n",
    "4 4\n",
    "*...\n",
    "....\n",
    ".*..\n",
    "....\n",
    "3 5\n",
    "**...\n",
    ".....\n",
    ".*...\n",
    "0 0\n",
    "\n",
    "Sample Output:\n",
    "\n",
    "Field #1:\n",
    "*100\n",
    "2210\n",
    "1*10\n",
    "1110\n",
    "Field #2:\n",
    "**100\n",
    "33200\n",
    "1*100\n"
   ]
  },
  {
   "cell_type": "code",
   "execution_count": null,
   "metadata": {},
   "outputs": [],
   "source": [
    "def getinput(r,c,s):\n",
    "    order=list(map(int,s.split('\\n')))\n",
    "    data={}\n",
    "    count=1\n",
    "    for i in range(order[0]):\n",
    "        line=input().split('')\n",
    "        for j in range(order[1]):\n",
    "            t=[]\n",
    "            t.append[i]\n",
    "            t.append[j]\n",
    "            if line[j]==\"*\":\n",
    "                t.append(-1)\n",
    "            else:\n",
    "                t.append(-2)\n",
    "            data[count]=t \n",
    "            count+=1\n",
    "        return data\n",
    "s = '''\n",
    "*...\n",
    "....\n",
    ".*..\n",
    "....'''\n",
    "field = getinput(4,4,s)\n",
    "def CountMines(x,y, field):\n",
    "    count = 0\n",
    "    return count"
   ]
  }
 ],
 "metadata": {
  "kernelspec": {
   "display_name": "Python 3",
   "language": "python",
   "name": "python3"
  },
  "language_info": {
   "codemirror_mode": {
    "name": "ipython",
    "version": 3
   },
   "file_extension": ".py",
   "mimetype": "text/x-python",
   "name": "python",
   "nbconvert_exporter": "python",
   "pygments_lexer": "ipython3",
   "version": "3.8.3"
  }
 },
 "nbformat": 4,
 "nbformat_minor": 4
}
