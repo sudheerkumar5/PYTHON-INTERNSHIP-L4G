{
 "cells": [
  {
   "cell_type": "markdown",
   "metadata": {},
   "source": [
    "### Problem Set 1"
   ]
  },
  {
   "cell_type": "markdown",
   "metadata": {},
   "source": [
    "##### --Caesers Cipher - ASCII 33 to 126\n",
    "\n",
    "    *Key Shift = 3, A -> D, B -> E, Z -> ], 6 -> 9, 9 -> <\n",
    "    \n",
    "    *Key Shift = 3, ‘Python’ -> ‘Sbwkrq’\n",
    "    \n",
    "    *Create a File Encryption Function that takes a text file, key and replaces all characters and digits in the file with a          corresponding character after key number of shifts\n",
    "    \n",
    "    *Create a File Decryption function that takes Encrypted file, Key and creates the original file\n"
   ]
  },
  {
   "cell_type": "markdown",
   "metadata": {},
   "source": [
    "##### ENCYRPTION"
   ]
  },
  {
   "cell_type": "code",
   "execution_count": 30,
   "metadata": {},
   "outputs": [
    {
     "data": {
      "text/plain": [
       "'sbwkrq'"
      ]
     },
     "execution_count": 30,
     "metadata": {},
     "output_type": "execute_result"
    }
   ],
   "source": [
    "def Caesers_CipherE(filename):\n",
    "    \n",
    "    file = open(filename, \"r\")\n",
    "    filedata = file.read()\n",
    "    \n",
    "    key_shift = 3\n",
    "\n",
    "    encryption = \"\"\n",
    "\n",
    "    for letter in filedata:\n",
    "\n",
    "            position = ord(letter)\n",
    "\n",
    "            index = ord(letter) - ord(\"a\")\n",
    "\n",
    "            new_index = (index + key_shift) % 26\n",
    "\n",
    "            new_position = new_index + ord(\"a\")\n",
    "\n",
    "            new_character = chr(new_position)\n",
    "\n",
    "            encryption = encryption + new_character\n",
    "            \n",
    "    return encryption\n",
    "    file_data = Caesers_CipherE(filename)\n",
    "    with open('encrypted_file.txt', 'w') as f :\n",
    "        f.write(file_data)\n",
    "    \n",
    "filename = 'textfile'\n",
    "Caesers_CipherE(filename)"
   ]
  },
  {
   "cell_type": "markdown",
   "metadata": {},
   "source": [
    "##### DECRYPTION"
   ]
  },
  {
   "cell_type": "code",
   "execution_count": 31,
   "metadata": {},
   "outputs": [
    {
     "data": {
      "text/plain": [
       "'python'"
      ]
     },
     "execution_count": 31,
     "metadata": {},
     "output_type": "execute_result"
    }
   ],
   "source": [
    "def Caesers_CipherD(filename):\n",
    "    \n",
    "    file = open(filename, \"r\")\n",
    "    filedata = file.read()\n",
    "    \n",
    "    key_shift = 3\n",
    "\n",
    "    decryption = \"\"\n",
    "\n",
    "    for letter in filedata:\n",
    "\n",
    "            position = ord(letter)\n",
    "\n",
    "            index = ord(letter) - ord(\"a\")\n",
    "\n",
    "            new_index = (index - key_shift) % 26\n",
    "\n",
    "            new_position = new_index + ord(\"a\")\n",
    "\n",
    "            new_character = chr(new_position)\n",
    "\n",
    "            decryption = decryption + new_character\n",
    "            \n",
    "    return decryption\n",
    "\n",
    "filename = 'encrypted_file.txt'\n",
    "Caesers_CipherD(filename)"
   ]
  },
  {
   "cell_type": "markdown",
   "metadata": {},
   "source": [
    "###### ASCII CEASER'S SHIFT(ENCRYPT)"
   ]
  },
  {
   "cell_type": "code",
   "execution_count": 50,
   "metadata": {},
   "outputs": [
    {
     "data": {
      "text/plain": [
       "'s|wkrq'"
      ]
     },
     "execution_count": 50,
     "metadata": {},
     "output_type": "execute_result"
    }
   ],
   "source": [
    "def AsciiCeasersE(filename):\n",
    " \n",
    "    file = open(filename, \"r\")\n",
    "    filedata = file.read()   \n",
    "    key_shift = 3\n",
    "    \n",
    "    encrypted = \"\"\n",
    "    \n",
    "    for char in filedata:\n",
    "        value = ord(char) + key_shift\n",
    "        encrypted += chr(value % 126)\n",
    "    return encrypted\n",
    "\n",
    "filename = 'textfile'\n",
    "AsciiCeasersE(filename)"
   ]
  },
  {
   "cell_type": "markdown",
   "metadata": {},
   "source": [
    "###### ASCII CEASER'S SHIFT(DECRYPT)"
   ]
  },
  {
   "cell_type": "code",
   "execution_count": 51,
   "metadata": {},
   "outputs": [
    {
     "data": {
      "text/plain": [
       "'p_thon'"
      ]
     },
     "execution_count": 51,
     "metadata": {},
     "output_type": "execute_result"
    }
   ],
   "source": [
    "def AsciiCeasersD(filename):\n",
    " \n",
    "    file = open(filename, \"r\")\n",
    "    filedata = file.read()   \n",
    "    key_shift = 3\n",
    "    \n",
    "    encrypted = \"\"\n",
    "    \n",
    "    for char in filedata:\n",
    "        value = ord(char) - key_shift\n",
    "        encrypted += chr(value % 126)\n",
    "    return encrypted\n",
    "\n",
    "filename = 'encrypted_file.txt'\n",
    "AsciiCeasersD(filename)"
   ]
  },
  {
   "cell_type": "markdown",
   "metadata": {},
   "source": [
    "### Problem Set 2"
   ]
  },
  {
   "cell_type": "markdown",
   "metadata": {},
   "source": [
    "##### --Key file approach - Alphanumeric characters(including lowercase and uppercase) only\n",
    "\n",
    "    *User creates a key file with mapping of all characters with the replaced characters\n",
    "    \n",
    "    *A T\n",
    "    \n",
    "    *B C\n",
    "    \n",
    "    *Create a File Encryption function that takes a text file, key file and encrypts every character in the text file with  the replacement character in the key file\n",
    "    \n",
    "    *Create a Decryption function that takes an Encrypted file, Key file and recreates the original data file\n"
   ]
  },
  {
   "cell_type": "markdown",
   "metadata": {},
   "source": [
    "###### Encryption"
   ]
  },
  {
   "cell_type": "code",
   "execution_count": 48,
   "metadata": {},
   "outputs": [
    {
     "data": {
      "text/plain": [
       "'ixsgnm'"
      ]
     },
     "execution_count": 48,
     "metadata": {},
     "output_type": "execute_result"
    }
   ],
   "source": [
    "def CharChangeE(filename):\n",
    "    \n",
    "    file = open(filename, \"r\")\n",
    "    filedata = file.read()\n",
    "    #\\filedata = filedata1.split()\n",
    "    \n",
    "    for i in range(0,26):\n",
    "        key_shift = i\n",
    "        encryption = \"\"\n",
    "\n",
    "    for i in filedata:\n",
    "\n",
    "            position = ord(i)\n",
    "\n",
    "            index = ord(i) - ord(\"a\")\n",
    "\n",
    "            new_index = (index + key_shift) % 26\n",
    "\n",
    "            new_position = new_index + ord(\"a\")\n",
    "\n",
    "            new_character = chr(new_position)\n",
    "\n",
    "            encryption = encryption + new_character\n",
    "            \n",
    "    return encryption[:-1]\n",
    "\n",
    "    file_data = CharChangeE(filename)\n",
    "    with open('encrypted_file1.txt', 'w') as f :\n",
    "        f.write(file_data)\n",
    "    \n",
    "filename = 'keyfile'\n",
    "CharChangeE(filename)"
   ]
  },
  {
   "cell_type": "markdown",
   "metadata": {},
   "source": [
    "###### Decryption"
   ]
  },
  {
   "cell_type": "code",
   "execution_count": 45,
   "metadata": {},
   "outputs": [
    {
     "data": {
      "text/plain": [
       "'python'"
      ]
     },
     "execution_count": 45,
     "metadata": {},
     "output_type": "execute_result"
    }
   ],
   "source": [
    "def CharChangeD(filename):\n",
    "    \n",
    "    file = open(filename, \"r\")\n",
    "    filedata = file.read()\n",
    "    #filedata = filedata1.split()\n",
    "    for i in range(0,26):\n",
    "        key_shift = i\n",
    "        decryption = \"\"\n",
    "\n",
    "    for i in filedata:\n",
    "\n",
    "            position = ord(i)\n",
    "\n",
    "            index = ord(i) - ord(\"a\")\n",
    "\n",
    "            new_index = (index - key_shift) % 26\n",
    "\n",
    "            new_position = new_index + ord(\"a\")\n",
    "\n",
    "            new_character = chr(new_position)\n",
    "\n",
    "            decryption = decryption + new_character\n",
    "    \n",
    "    return decryption\n",
    "    \n",
    "filename = 'encrypted_file1.txt'\n",
    "CharChangeD(filename)"
   ]
  },
  {
   "cell_type": "code",
   "execution_count": null,
   "metadata": {},
   "outputs": [],
   "source": []
  }
 ],
 "metadata": {
  "kernelspec": {
   "display_name": "Python 3",
   "language": "python",
   "name": "python3"
  },
  "language_info": {
   "codemirror_mode": {
    "name": "ipython",
    "version": 3
   },
   "file_extension": ".py",
   "mimetype": "text/x-python",
   "name": "python",
   "nbconvert_exporter": "python",
   "pygments_lexer": "ipython3",
   "version": "3.8.3"
  }
 },
 "nbformat": 4,
 "nbformat_minor": 4
}
