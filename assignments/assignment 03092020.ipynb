{
 "cells": [
  {
   "cell_type": "markdown",
   "metadata": {},
   "source": [
    "### Problem statement 1"
   ]
  },
  {
   "cell_type": "markdown",
   "metadata": {},
   "source": [
    "#### -Function to validate a phone number\n",
    "    - def phoneValidator(number):\n",
    "    - Start with 6-9 followed by 9 digits\n",
    "    - +91-(10 digits)\n"
   ]
  },
  {
   "cell_type": "code",
   "execution_count": 30,
   "metadata": {},
   "outputs": [
    {
     "data": {
      "text/plain": [
       "True"
      ]
     },
     "execution_count": 30,
     "metadata": {},
     "output_type": "execute_result"
    }
   ],
   "source": [
    "import re\n",
    "def phoneValidator(number):\n",
    "    if re.match(\"^[7-9][0-9]{9}$'|^[+][9][1][-][0-9]{10}$\",number):\n",
    "        return True\n",
    "    return False\n",
    "\n",
    "phoneValidator(\"+91-9177989681\")"
   ]
  },
  {
   "cell_type": "markdown",
   "metadata": {},
   "source": [
    "### Problem statement 2"
   ]
  },
  {
   "cell_type": "markdown",
   "metadata": {},
   "source": [
    "#### -Function to validate email id\n",
    "    - def emailValidator(email):\n",
    "    - username\n",
    "    - Length of username : [6,15]\n",
    "    - No special characters other than _ .\n",
    "    - Should not begin and end with _ .\n",
    "    - Character Set : all digits and lower case alphabet _.\n",
    "   ###### -domain\n",
    "    - Length of domain : [3, 18]\n",
    "    - No special characters\n",
    "    - Character Set : all digits and lower case alphabet\n",
    "   ###### -extension\n",
    "    - Length of extension : [2, 4]\n",
    "    - No special characters\n",
    "    - Character Set : lower case alphabet\n"
   ]
  },
  {
   "cell_type": "code",
   "execution_count": 28,
   "metadata": {},
   "outputs": [
    {
     "data": {
      "text/plain": [
       "False"
      ]
     },
     "execution_count": 28,
     "metadata": {},
     "output_type": "execute_result"
    }
   ],
   "source": [
    "import re\n",
    "def ValidateEmail(email):\n",
    "    if re.match(\"^[a-z0-9]+[\\._]?[a-z0-9]+[@]\\w+[.]\\w{2,3}$\",email):\n",
    "        return True\n",
    "    return False\n",
    "\n",
    "ValidateEmail(\"sudheerkumarp55gmail.com\")"
   ]
  },
  {
   "cell_type": "markdown",
   "metadata": {},
   "source": [
    "### Problem statement 3"
   ]
  },
  {
   "cell_type": "markdown",
   "metadata": {},
   "source": [
    "#### -Function to validate a URL"
   ]
  },
  {
   "cell_type": "code",
   "execution_count": 32,
   "metadata": {},
   "outputs": [
    {
     "data": {
      "text/plain": [
       "True"
      ]
     },
     "execution_count": 32,
     "metadata": {},
     "output_type": "execute_result"
    }
   ],
   "source": [
    "import re\n",
    "def urlValidator(url):\n",
    "    if re.match(\"^(https://).*$\", url):\n",
    "        return True\n",
    "    return False\n",
    "\n",
    "urlValidator(\"https://docs.google.com/document/d/1Rm2XxOpPVcEEzlF0lzflz7YEHrCqBTKKTDzwGRhix7Y/edit#heading=h.61zv65le2enr\")"
   ]
  },
  {
   "cell_type": "markdown",
   "metadata": {},
   "source": [
    "### Problem statement 4"
   ]
  },
  {
   "cell_type": "markdown",
   "metadata": {},
   "source": [
    "#### -Function to validate Password\n",
    "      - Minimum 6 characters\n",
    "      - Character set : all alphabet(lower case, upper case), all digits, special characters except whitespace\n",
    "      - Should contain at least one upper case letter, one digit and one special character\n",
    "      - Maximum 18 characters\n",
    "\n"
   ]
  },
  {
   "cell_type": "code",
   "execution_count": 3,
   "metadata": {},
   "outputs": [
    {
     "data": {
      "text/plain": [
       "True"
      ]
     },
     "execution_count": 3,
     "metadata": {},
     "output_type": "execute_result"
    }
   ],
   "source": [
    "import re\n",
    "\n",
    "def validatePW(password):    \n",
    "    if re.match(\"^(?=.*[a-z])(?=.*[A-Z])(?=.*[0-9])(?=.*[@$#*%!?&])[A-Za-z0-9@$#*%!?&]{6,18}$\",password):\n",
    "        return True\n",
    "    return False\n",
    "\n",
    "validatePW(\"SudheerkumaR@555\")"
   ]
  },
  {
   "cell_type": "code",
   "execution_count": null,
   "metadata": {},
   "outputs": [],
   "source": []
  }
 ],
 "metadata": {
  "kernelspec": {
   "display_name": "Python 3",
   "language": "python",
   "name": "python3"
  },
  "language_info": {
   "codemirror_mode": {
    "name": "ipython",
    "version": 3
   },
   "file_extension": ".py",
   "mimetype": "text/x-python",
   "name": "python",
   "nbconvert_exporter": "python",
   "pygments_lexer": "ipython3",
   "version": "3.8.3"
  }
 },
 "nbformat": 4,
 "nbformat_minor": 4
}
