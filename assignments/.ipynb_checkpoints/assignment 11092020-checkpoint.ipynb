{
 "cells": [
  {
   "cell_type": "markdown",
   "metadata": {},
   "source": [
    "### Problem Statement 1"
   ]
  },
  {
   "cell_type": "markdown",
   "metadata": {},
   "source": [
    "Digit Frequency - Generate a frequency distribution for all digits in an Alphanumeric string\n",
    "     *  Input : ‘abc1122665’\n",
    "        Output : 0:0, 1:2, 2:4, 3:0, 4:0, 5:1, 6:2, 7:0, 8:0, 9:0\n",
    "     *  Input : ‘qwerty’\n",
    "        Output : 0:0, 1:0, 2:0, 3:0, 4:0, 5:0, 6:0, 7:0, 8:0, 9:0\n"
   ]
  },
  {
   "cell_type": "code",
   "execution_count": 2,
   "metadata": {
    "scrolled": false
   },
   "outputs": [
    {
     "data": {
      "text/plain": [
       "{'0': 0,\n",
       " '1': 2,\n",
       " '2': 2,\n",
       " '3': 0,\n",
       " '4': 0,\n",
       " '5': 1,\n",
       " '6': 2,\n",
       " '7': 0,\n",
       " '8': 0,\n",
       " '9': 0}"
      ]
     },
     "execution_count": 2,
     "metadata": {},
     "output_type": "execute_result"
    }
   ],
   "source": [
    "from collections import Counter \n",
    "\n",
    "def DigitFrequency(pass_string):\n",
    "  numbers = [\"0\",\"1\",\"2\",\"3\",\"4\",\"5\",\"6\",\"7\",\"8\",\"9\"]\n",
    "  chars_in_string = Counter(pass_string)\n",
    "  res = {}\n",
    "  for letter in numbers:\n",
    "    if(letter in chars_in_string):\n",
    "      res[letter] = chars_in_string[letter]\n",
    "    else: \n",
    "      res[letter] = 0 \n",
    "  return(res)\n",
    "\n",
    "DigitFrequency(\"abc1122665\")"
   ]
  },
  {
   "cell_type": "code",
   "execution_count": 7,
   "metadata": {},
   "outputs": [
    {
     "data": {
      "text/plain": [
       "{'0': 0,\n",
       " '1': 0,\n",
       " '2': 0,\n",
       " '3': 0,\n",
       " '4': 0,\n",
       " '5': 0,\n",
       " '6': 0,\n",
       " '7': 0,\n",
       " '8': 0,\n",
       " '9': 0}"
      ]
     },
     "execution_count": 7,
     "metadata": {},
     "output_type": "execute_result"
    }
   ],
   "source": [
    "from collections import Counter \n",
    "\n",
    "def DigitFrequency(pass_string):\n",
    "  numbers = [\"0\",\"1\",\"2\",\"3\",\"4\",\"5\",\"6\",\"7\",\"8\",\"9\"]\n",
    "  chars_in_string = Counter(pass_string)\n",
    "  res = {}\n",
    "  for letter in numbers:\n",
    "    if(letter in chars_in_string):\n",
    "      res[letter] = chars_in_string[letter]\n",
    "    else: \n",
    "      res[letter] = 0 \n",
    "  return(res)\n",
    "DigitFrequency(\"qwerty\")"
   ]
  },
  {
   "cell_type": "markdown",
   "metadata": {},
   "source": [
    "### Problem Set 2"
   ]
  },
  {
   "cell_type": "markdown",
   "metadata": {},
   "source": [
    "##### Second highest frequency "
   ]
  },
  {
   "cell_type": "code",
   "execution_count": 8,
   "metadata": {},
   "outputs": [
    {
     "data": {
      "text/plain": [
       "96"
      ]
     },
     "execution_count": 8,
     "metadata": {},
     "output_type": "execute_result"
    }
   ],
   "source": [
    "def secondHighestFreq(input): \n",
    "    mark=[]\n",
    "    file = open(filename,'r')\n",
    "    for line in file:\n",
    "        marks = line.split(',')\n",
    "        for i in marks:\n",
    "            mark.append(int(i))\n",
    "    mark.sort()  \n",
    "    return mark[-2]\n",
    "\n",
    "\n",
    "filename=\"Datasets/marks.txt\"\n",
    "secondHighestFreq(filename)"
   ]
  },
  {
   "cell_type": "code",
   "execution_count": 2,
   "metadata": {},
   "outputs": [
    {
     "data": {
      "text/plain": [
       "(1, 100)"
      ]
     },
     "execution_count": 2,
     "metadata": {},
     "output_type": "execute_result"
    }
   ],
   "source": [
    "def SecondHighestFrequency(filename):\n",
    "    count = 0\n",
    "    mark = []\n",
    "    file = open(filename,'r')\n",
    "    for line in file:\n",
    "        marks = line.split(\",\")\n",
    "        for i in marks:\n",
    "            mark.append(int(i))\n",
    "    big = max(mark)\n",
    "    for j in mark:\n",
    "        if(big == j):\n",
    "            count += 1\n",
    "    return count,big         \n",
    "\n",
    "filename=\"Datasets/marks.txt\"\n",
    "SecondHighestFrequency(filename)"
   ]
  },
  {
   "cell_type": "markdown",
   "metadata": {},
   "source": [
    "### Problem Set 3"
   ]
  },
  {
   "cell_type": "markdown",
   "metadata": {},
   "source": [
    "##### K-highest frequency "
   ]
  },
  {
   "cell_type": "code",
   "execution_count": 4,
   "metadata": {},
   "outputs": [
    {
     "data": {
      "text/plain": [
       "92"
      ]
     },
     "execution_count": 4,
     "metadata": {},
     "output_type": "execute_result"
    }
   ],
   "source": [
    "def kHighestFreq(filename,k):\n",
    "    mark = []\n",
    "    file1 = open(filename,'r')\n",
    "    for line in file1:\n",
    "        marks = line.split(',')\n",
    "        for i in marks:\n",
    "            mark.append(int(i))\n",
    "    mark.sort()  \n",
    "    return mark[-k]   \n",
    "\n",
    "filename=\"Datasets/marks.txt\"\n",
    "kHighestFreq(filename,6)"
   ]
  },
  {
   "cell_type": "markdown",
   "metadata": {},
   "source": [
    "### Problem Set 4"
   ]
  },
  {
   "cell_type": "markdown",
   "metadata": {},
   "source": [
    "    a group of students are members of a club that travels annually to different lo- cations. their destinations in the past have included indianapolis, phoenix, nashville, philadelphia, san jose, and atlanta. this spring they are planning a trip to eindhoven. the group agrees in advance to share expenses equally, but it is not practical to share every expense as it occurs. thus individuals in the group pay for particular things, such as meals, hotels, taxi rides, and plane tickets. after the trip, each student’s expenses are tallied and money is exchanged so that the net cost to each is the same, to within one cent. in the past, this money exchange has been tedious and time consuming. your job is to compute, from a list of expenses, the minimum amount of money that must change hands in order to equalize (within one cent) all the students’ costs. \n",
    "Input:\n",
    "    standard input will contain the information for several trips. each trip consists of a line containing a positive integer n denoting the number of students on the trip. this is followed by n lines of input, each containing the amount spent by a student in dollars and cents. there are no more than 1000 students and no student spent more than $10,000.00.A single line containing 0 follows the information for the last trip. output for each trip, \n",
    "Output:\n",
    "    A line stating the total amount of money, in dollars and cents, that must be exchanged to equalize the students’ costs. \n",
    " \n",
    " sample input\n",
    "    3 \n",
    "    10.00 \n",
    "    20.00 \n",
    "    30.00 \n",
    "    4 \n",
    "    15.00 \n",
    "    15.01 \n",
    "    3.00 \n",
    "    3.01 \n",
    "    0 \n",
    " sample output \n",
    "    $10.00 \n",
    "    $11.99"
   ]
  },
  {
   "cell_type": "code",
   "execution_count": 1,
   "metadata": {},
   "outputs": [
    {
     "name": "stdout",
     "output_type": "stream",
     "text": [
      "3\n",
      "10\n",
      "20\n",
      "30\n"
     ]
    },
    {
     "data": {
      "text/plain": [
       "10.0"
      ]
     },
     "execution_count": 1,
     "metadata": {},
     "output_type": "execute_result"
    }
   ],
   "source": [
    "def AmountExchanged(x,Y):\n",
    "\n",
    "    current_spending = max(Y)\n",
    "    copy_list = Y.copy()\n",
    "    copy_list.sort()\n",
    "    current_spending1 = copy_list[-2]\n",
    "    Average_spending = sum(copy_list)/x\n",
    "    positive_differance = abs(Average_spending - current_spending)\n",
    "    Negative_difference = abs(Average_spending - current_spending1)\n",
    "    amount_exchanged = positive_differance + Negative_difference\n",
    "    \n",
    "    return amount_exchanged\n",
    "    \n",
    "x = int(input())\n",
    "Y = []\n",
    "\n",
    "for i in range(0,x):\n",
    "    Y.append(float(input()))\n",
    "    \n",
    "AmountExchanged(x,Y)"
   ]
  },
  {
   "cell_type": "markdown",
   "metadata": {},
   "source": [
    "### Problem set 5"
   ]
  },
  {
   "cell_type": "markdown",
   "metadata": {},
   "source": [
    "### Check the Check"
   ]
  },
  {
   "cell_type": "markdown",
   "metadata": {},
   "source": [
    "Your task is to write a program that reads a chessboard configuration and identifies\n",
    "whether a king is under attack (in check). A king is in check if it is on square which\n",
    "can be taken by the opponent on his next move.\n",
    "White pieces will be represented by uppercase letters, and black pieces by lowercase\n",
    "letters. The white side will always be on the bottom of the board, with the black side\n",
    "always on the top.\n",
    "For those unfamiliar with chess, here are the movements of each piece:\n",
    "Pawn (p or P): can only move straight ahead, one square at a time. However, it takes\n",
    "pieces diagonally, and that is what concerns you in this problem.\n",
    "Knight (n or N) : has an L-shaped movement shown below. It is the only piece that\n",
    "can jump over other pieces.\n",
    "Bishop (b or B) : can move any number of squares diagonally, either forward or\n",
    "backward.\n",
    "Rook (r or R) : can move any number of squares vertically or horizontally, either\n",
    "forward or backward.\n",
    "Queen (q or Q) : can move any number of squares in any direction (diagonally,\n",
    "horizontally, or vertically) either forward or backward.\n",
    "King (k or K) : can move one square at a time in any direction (diagonally,\n",
    "horizontally, or vertically) either forward or backward.\n",
    "Movement examples are shown below, where “*” indicates the positions where the\n",
    "piece can capture another piece:\n",
    "Pawn Rook Bishop Queen King Knight\n",
    "........ ...*.... .......* ...*...* ........ ........\n",
    "........ ...*.... *.....*. *..*..*. ........ ........\n",
    "........ ...*.... .*...*.. .*.*.*.. ........ ..*.*...\n",
    "........ ...*.... ..*.*... ..***... ..***... .*...*..\n",
    "...p.... ***r**** ...b.... ***q**** ..*k*... ...n....\n",
    "..*.*... ...*.... ..*.*... ..***... ..***... .*...*..\n",
    "........ ...*.... .*...*.. .*.*.*.. ........ ..*.*...\n",
    "........ ...*.... *.....*. *..*..*. ........ ........\n",
    "Remember that the knight is the only piece that can jump over other pieces. The\n",
    "pawn movement will depend on its side. If it is a black pawn, it can only move one\n",
    "square diagonally down the board. If it is a white pawn, it can only move one square\n",
    "diagonally up the board. The example above is a black pawn, described by a lowercase\n",
    "“p”. We use “move” to indicate the squares where the pawn can capture another piece.\n",
    "\n",
    "24 1. Getting Started\n",
    "Input\n",
    "There will be an arbitrary number of board configurations in the input, each consisting\n",
    "\n",
    "of eight lines of eight characters each. A “.” denotes an empty square, while upper-\n",
    "and lowercase letters represent the pieces as defined above. There will be no invalid\n",
    "\n",
    "characters and no configurations where both kings are in check. You must read until you\n",
    "find an empty board consisting only of “.” characters, which should not be processed.\n",
    "There will be an empty line between each pair of board configurations. All boards,\n",
    "except for the empty one, will contain exactly one white king and one black king.\n",
    "Output\n",
    "For each board configuration read you must output one of the following answers:\n",
    "Game #d: white king is in check.\n",
    "Game #d: black king is in check.\n",
    "Game #d: no king is in check.\n",
    "where d stands for the game number starting from 1.\n",
    "Sample Input\n",
    "..k.....\n",
    "ppp.pppp\n",
    "........\n",
    ".R...B..\n",
    "........\n",
    "........\n",
    "PPPPPPPP\n",
    "K.......\n",
    "rnbqk.nr\n",
    "ppp..ppp\n",
    "....p...\n",
    "...p....\n",
    ".bPP....\n",
    ".....N..\n",
    "PP..PPPP\n",
    "RNBQKB.R\n",
    "........\n",
    "........\n",
    "........\n",
    "........\n",
    "........\n",
    "........\n",
    "........\n",
    "........\n",
    "\n",
    "Sample Output\n",
    "Game #1: black king is in check.\n",
    "Game #2: white king is in check."
   ]
  },
  {
   "cell_type": "code",
   "execution_count": null,
   "metadata": {},
   "outputs": [],
   "source": [
    "def CheckTheCheck():\n",
    "    "
   ]
  }
 ],
 "metadata": {
  "kernelspec": {
   "display_name": "Python 3",
   "language": "python",
   "name": "python3"
  },
  "language_info": {
   "codemirror_mode": {
    "name": "ipython",
    "version": 3
   },
   "file_extension": ".py",
   "mimetype": "text/x-python",
   "name": "python",
   "nbconvert_exporter": "python",
   "pygments_lexer": "ipython3",
   "version": "3.8.3"
  }
 },
 "nbformat": 4,
 "nbformat_minor": 4
}
