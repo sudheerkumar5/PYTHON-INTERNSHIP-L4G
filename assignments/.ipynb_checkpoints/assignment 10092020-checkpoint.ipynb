{
 "cells": [
  {
   "cell_type": "markdown",
   "metadata": {},
   "source": [
    "### Problem Statement 1\n",
    "\n",
    "    1-1.Character Count\n",
    "    1-2.Line Count\n",
    "    1-3.File Size\n",
    "    1-4.Word Count\n",
    "    1-5.Unique Word Count\n",
    "\n"
   ]
  },
  {
   "cell_type": "markdown",
   "metadata": {},
   "source": [
    "### sample.txt file"
   ]
  },
  {
   "cell_type": "markdown",
   "metadata": {},
   "source": [
    "Web Development -- Python can be used to make web - applications at a rapid rate.\n",
    "Game Development -- Python is also used in the development of interactive games.\n",
    "Machine Learning and Artificial Intelligence.\n",
    "Data Science and Data Visualization.\n",
    "Desktop GUI.\n",
    "Web Scraping Applications.\n",
    "Business Applications.\n",
    "CAD Applications."
   ]
  },
  {
   "cell_type": "markdown",
   "metadata": {},
   "source": [
    "#### Problem Statement 1-1"
   ]
  },
  {
   "cell_type": "markdown",
   "metadata": {},
   "source": [
    "\n",
    "###### Character Count\n"
   ]
  },
  {
   "cell_type": "code",
   "execution_count": 18,
   "metadata": {},
   "outputs": [
    {
     "data": {
      "text/plain": [
       "326"
      ]
     },
     "execution_count": 18,
     "metadata": {},
     "output_type": "execute_result"
    }
   ],
   "source": [
    "def CharacterCount(filename):\n",
    "    file = open(filename, \"r\")\n",
    "    filedata = file.read()\n",
    "    number_of_characters = len(filedata)\n",
    "    return number_of_characters\n",
    "    file.close()\n",
    "filename = 'Samplefile/sample.txt'\n",
    "\n",
    "CharacterCount(filename)"
   ]
  },
  {
   "cell_type": "markdown",
   "metadata": {},
   "source": [
    "#### Problem Statement 1-2"
   ]
  },
  {
   "cell_type": "markdown",
   "metadata": {},
   "source": [
    "##### Line count"
   ]
  },
  {
   "cell_type": "code",
   "execution_count": 19,
   "metadata": {},
   "outputs": [
    {
     "data": {
      "text/plain": [
       "8"
      ]
     },
     "execution_count": 19,
     "metadata": {},
     "output_type": "execute_result"
    }
   ],
   "source": [
    "def linescount(filename):\n",
    "    file = open(filename, 'r')\n",
    "    lines = 0\n",
    "    for line in file:\n",
    "        wordslist = line.split()\n",
    "        lines = lines + 1\n",
    "    return lines\n",
    "    file.close()\n",
    "filename = 'Samplefile/sample.txt'\n",
    "\n",
    "linescount(filename)"
   ]
  },
  {
   "cell_type": "markdown",
   "metadata": {},
   "source": [
    "#### Problem Statement 1-3"
   ]
  },
  {
   "cell_type": "markdown",
   "metadata": {},
   "source": [
    "###### File Size"
   ]
  },
  {
   "cell_type": "code",
   "execution_count": 21,
   "metadata": {},
   "outputs": [
    {
     "data": {
      "text/plain": [
       "326"
      ]
     },
     "execution_count": 21,
     "metadata": {},
     "output_type": "execute_result"
    }
   ],
   "source": [
    "import os \n",
    "\n",
    "def size(filename):\n",
    "    \n",
    "    file = open(filename, 'r')\n",
    " \n",
    "    size = os.path.getsize(filename) \n",
    "    \n",
    "    return size\n",
    "\n",
    "    file.close()\n",
    "filename = 'Samplefile/sample.txt'\n",
    "size(filename)"
   ]
  },
  {
   "cell_type": "markdown",
   "metadata": {},
   "source": [
    "#### Problem Statement 1-4"
   ]
  },
  {
   "cell_type": "markdown",
   "metadata": {},
   "source": [
    "###### Word Count"
   ]
  },
  {
   "cell_type": "code",
   "execution_count": 22,
   "metadata": {},
   "outputs": [
    {
     "data": {
      "text/plain": [
       "48"
      ]
     },
     "execution_count": 22,
     "metadata": {},
     "output_type": "execute_result"
    }
   ],
   "source": [
    "def Wordscount(filename):\n",
    "    file = open(filename, 'r')\n",
    "    filedata = file.read()\n",
    "    words = filedata.split()\n",
    "    return len(words)\n",
    "    file.close()\n",
    "    \n",
    "filename = 'Samplefile/sample.txt'\n",
    "\n",
    "Wordscount(filename)"
   ]
  },
  {
   "cell_type": "markdown",
   "metadata": {},
   "source": [
    "#### Problem Statement 1-5"
   ]
  },
  {
   "cell_type": "markdown",
   "metadata": {},
   "source": [
    "###### Uniqueword Count"
   ]
  },
  {
   "cell_type": "code",
   "execution_count": 24,
   "metadata": {},
   "outputs": [
    {
     "data": {
      "text/plain": [
       "39"
      ]
     },
     "execution_count": 24,
     "metadata": {},
     "output_type": "execute_result"
    }
   ],
   "source": [
    " def UniqueWordscount(filename):\n",
    "    file = open(filename, 'r')\n",
    "    filedata = file.read()\n",
    "    words = filedata.split()\n",
    "    uniquewords = set(words)\n",
    "    uniquewordscount = len(uniquewords)\n",
    "    \n",
    "    return len(uniquewords)\n",
    "    file.close()\n",
    "filename = 'Samplefile/sample.txt'\n",
    "\n",
    "UniqueWordscount(filename)\n"
   ]
  },
  {
   "cell_type": "markdown",
   "metadata": {},
   "source": [
    "### Problem Statement 2\n",
    "##### Marks Analysis"
   ]
  },
  {
   "cell_type": "markdown",
   "metadata": {},
   "source": [
    "###### Class Average"
   ]
  },
  {
   "cell_type": "code",
   "execution_count": 44,
   "metadata": {},
   "outputs": [
    {
     "data": {
      "text/plain": [
       "49.416666666666664"
      ]
     },
     "execution_count": 44,
     "metadata": {},
     "output_type": "execute_result"
    }
   ],
   "source": [
    "def ClassAvg(filename):\n",
    "    sum = 0\n",
    "    count = 0\n",
    "    file = open(filename,'r')\n",
    "    for line in file:\n",
    "        marks = line.split(\",\")\n",
    "        for i in marks:\n",
    "            mark = int(i)\n",
    "            sum = sum + mark\n",
    "            count += 1\n",
    "    return sum/count\n",
    "\n",
    "filename=\"Datasets/marks.txt\"\n",
    "ClassAvg(filename)"
   ]
  },
  {
   "cell_type": "markdown",
   "metadata": {},
   "source": [
    "###### Percentage of students passed"
   ]
  },
  {
   "cell_type": "code",
   "execution_count": 46,
   "metadata": {},
   "outputs": [
    {
     "data": {
      "text/plain": [
       "60.0"
      ]
     },
     "execution_count": 46,
     "metadata": {},
     "output_type": "execute_result"
    }
   ],
   "source": [
    "def PercentageOfPass(filename):\n",
    "    count = 0\n",
    "    totalcount = 0\n",
    "    file = open(filename,'r')\n",
    "    for line in file:\n",
    "        marks = line.split(\",\")\n",
    "        for i in marks:\n",
    "            totalcount += 1\n",
    "            mark = int(i)\n",
    "            if(mark > 40):\n",
    "                count += 1\n",
    "    percentageofpass = (count/totalcount)*100\n",
    "    return percentageofpass\n",
    "\n",
    "filename=\"Datasets/marks.txt\"\n",
    "PercentageOfPass(filename)"
   ]
  },
  {
   "cell_type": "markdown",
   "metadata": {},
   "source": [
    "###### Percentage of students Failed"
   ]
  },
  {
   "cell_type": "code",
   "execution_count": 50,
   "metadata": {},
   "outputs": [
    {
     "data": {
      "text/plain": [
       "40.0"
      ]
     },
     "execution_count": 50,
     "metadata": {},
     "output_type": "execute_result"
    }
   ],
   "source": [
    "def PercentageOfFailed(filename):\n",
    "    count = 0\n",
    "    totalcount = 0\n",
    "    file = open(filename,'r')\n",
    "    for line in file:\n",
    "        marks = line.split(\",\")\n",
    "        for i in marks:\n",
    "            totalcount += 1\n",
    "            mark = int(i)\n",
    "            if(mark < 40):\n",
    "                count += 1\n",
    "    percentageoffail = (count/totalcount)*100\n",
    "    return percentageoffail\n",
    "\n",
    "filename=\"Datasets/marks.txt\"\n",
    "PercentageOfFailed(filename)"
   ]
  },
  {
   "cell_type": "markdown",
   "metadata": {},
   "source": [
    "###### Percentage of students with distinction"
   ]
  },
  {
   "cell_type": "code",
   "execution_count": 51,
   "metadata": {},
   "outputs": [
    {
     "data": {
      "text/plain": [
       "23.333333333333332"
      ]
     },
     "execution_count": 51,
     "metadata": {},
     "output_type": "execute_result"
    }
   ],
   "source": [
    "def PercentageWithDistinction(filename):\n",
    "    count = 0\n",
    "    totalcount = 0\n",
    "    file = open(filename,'r')\n",
    "    for line in file:\n",
    "        marks = line.split(\",\")\n",
    "        for i in marks:\n",
    "            totalcount += 1\n",
    "            mark = int(i)\n",
    "            if(mark > 80):\n",
    "                count += 1\n",
    "    percentagewithdistinction = (count/totalcount)*100\n",
    "    return percentagewithdistinction\n",
    "\n",
    "filename=\"Datasets/marks.txt\"\n",
    "PercentageWithDistinction(filename)"
   ]
  },
  {
   "cell_type": "markdown",
   "metadata": {},
   "source": [
    "###### Highest Mark Frequency"
   ]
  },
  {
   "cell_type": "code",
   "execution_count": 11,
   "metadata": {},
   "outputs": [
    {
     "data": {
      "text/plain": [
       "(1, 100)"
      ]
     },
     "execution_count": 11,
     "metadata": {},
     "output_type": "execute_result"
    }
   ],
   "source": [
    "def HighestMarkFrequency(filename):\n",
    "    count = 0\n",
    "    mark = []\n",
    "    file = open(filename,'r')\n",
    "    for line in file:\n",
    "        marks = line.split(\",\")\n",
    "        for i in marks:\n",
    "            mark.append(int(i))\n",
    "    big = max(mark)\n",
    "    for j in mark:\n",
    "        if(big == j):\n",
    "            count += 1\n",
    "    return count,big        \n",
    "\n",
    "filename=\"Datasets/marks.txt\"\n",
    "HighestMarkFrequency(filename)"
   ]
  },
  {
   "cell_type": "markdown",
   "metadata": {},
   "source": [
    "###### Lowest Mark Frequency"
   ]
  },
  {
   "cell_type": "code",
   "execution_count": 12,
   "metadata": {},
   "outputs": [
    {
     "data": {
      "text/plain": [
       "(1, 0)"
      ]
     },
     "execution_count": 12,
     "metadata": {},
     "output_type": "execute_result"
    }
   ],
   "source": [
    "def LowestMarkFrequency(filename):\n",
    "    count = 0\n",
    "    mark = []\n",
    "    file = open(filename,'r')\n",
    "    for line in file:\n",
    "        marks=line.split(',')\n",
    "        for i in marks:\n",
    "            mark.append(int(i))\n",
    "    small = min(mark)\n",
    "    for j in mark:\n",
    "        if(small == j):\n",
    "            count += 1\n",
    "    return count,small\n",
    "\n",
    "filename=\"Datasets/marks.txt\"\n",
    "LowestMarkFrequency(filename)"
   ]
  },
  {
   "cell_type": "markdown",
   "metadata": {},
   "source": [
    "#### Generating a Marks report"
   ]
  },
  {
   "cell_type": "code",
   "execution_count": null,
   "metadata": {},
   "outputs": [],
   "source": [
    "def MarksReport(filename):\n",
    "    \n",
    "    \n",
    "return ('Class Average :{}\\nprecentage of students passed :{}\\npercentage of students failed :{}\\npercentage of students with distinction :{}\\nHighest Mark Frequency :{}\\nLowest Mark Frequency :{}'.format(ClassAvg(filename),PercentageOfPass(filename),PercentageOfFailed(filename),PercentageWithDistinction(filename),HighestMarkFrequency(filename),LowestMarkFrequency(filename)))\n",
    "    \n",
    "filename = \"Datasets/marks.txt\"\n",
    "MarksReport(filename)"
   ]
  }
 ],
 "metadata": {
  "kernelspec": {
   "display_name": "Python 3",
   "language": "python",
   "name": "python3"
  },
  "language_info": {
   "codemirror_mode": {
    "name": "ipython",
    "version": 3
   },
   "file_extension": ".py",
   "mimetype": "text/x-python",
   "name": "python",
   "nbconvert_exporter": "python",
   "pygments_lexer": "ipython3",
   "version": "3.8.3"
  }
 },
 "nbformat": 4,
 "nbformat_minor": 4
}
