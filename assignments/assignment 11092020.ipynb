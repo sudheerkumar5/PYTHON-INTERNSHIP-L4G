{
 "cells": [
  {
   "cell_type": "markdown",
   "metadata": {},
   "source": [
    "### Problem Statement 1"
   ]
  },
  {
   "cell_type": "markdown",
   "metadata": {},
   "source": [
    "Digit Frequency - Generate a frequency distribution for all digits in an Alphanumeric string\n",
    "     *  Input : ‘abc1122665’\n",
    "        Output : 0:0, 1:2, 2:4, 3:0, 4:0, 5:1, 6:2, 7:0, 8:0, 9:0\n",
    "     *  Input : ‘qwerty’\n",
    "        Output : 0:0, 1:0, 2:0, 3:0, 4:0, 5:0, 6:0, 7:0, 8:0, 9:0\n"
   ]
  },
  {
   "cell_type": "code",
   "execution_count": 38,
   "metadata": {},
   "outputs": [
    {
     "data": {
      "text/plain": [
       "{'0': 0,\n",
       " '1': 2,\n",
       " '2': 2,\n",
       " '3': 0,\n",
       " '4': 0,\n",
       " '5': 1,\n",
       " '6': 2,\n",
       " '7': 0,\n",
       " '8': 0,\n",
       " '9': 0}"
      ]
     },
     "execution_count": 38,
     "metadata": {},
     "output_type": "execute_result"
    }
   ],
   "source": [
    "from collections import Counter \n",
    "\n",
    "def DigitFrequency(pass_string):\n",
    "  numbers = [\"0\",\"1\",\"2\",\"3\",\"4\",\"5\",\"6\",\"7\",\"8\",\"9\"]\n",
    "  chars_in_string = Counter(pass_string)\n",
    "  res = {}\n",
    "  for letter in numbers:\n",
    "    if(letter in chars_in_string):\n",
    "      res[letter] = chars_in_string[letter]\n",
    "    else: \n",
    "      res[letter] = 0 \n",
    "  return(res)\n",
    "\n",
    "DigitFrequency(\"abc1122665\")"
   ]
  },
  {
   "cell_type": "code",
   "execution_count": 48,
   "metadata": {},
   "outputs": [
    {
     "data": {
      "text/plain": [
       "{'0': 0,\n",
       " '1': 0,\n",
       " '2': 0,\n",
       " '3': 0,\n",
       " '4': 0,\n",
       " '5': 0,\n",
       " '6': 0,\n",
       " '7': 0,\n",
       " '8': 0,\n",
       " '9': 0}"
      ]
     },
     "execution_count": 48,
     "metadata": {},
     "output_type": "execute_result"
    }
   ],
   "source": [
    "DigitFrequency(\"qwerty\")"
   ]
  },
  {
   "cell_type": "markdown",
   "metadata": {},
   "source": [
    "##### Second highest frequency "
   ]
  },
  {
   "cell_type": "code",
   "execution_count": 68,
   "metadata": {},
   "outputs": [
    {
     "data": {
      "text/plain": [
       "96"
      ]
     },
     "execution_count": 68,
     "metadata": {},
     "output_type": "execute_result"
    }
   ],
   "source": [
    "def secondFrequent(input): \n",
    "    mark=[]\n",
    "    file = open(filename,'r')\n",
    "    for line in file:\n",
    "        marks = line.split(',')\n",
    "        for i in marks:\n",
    "            mark.append(int(i))\n",
    "    mark.sort()  \n",
    "    return mark[-2]\n",
    "\n",
    "\n",
    "filename=\"Datasets/marks.txt\"\n",
    "secondFrequent(filename)"
   ]
  },
  {
   "cell_type": "markdown",
   "metadata": {},
   "source": [
    "##### K-highest frequency "
   ]
  },
  {
   "cell_type": "code",
   "execution_count": 69,
   "metadata": {},
   "outputs": [
    {
     "data": {
      "text/plain": [
       "92"
      ]
     },
     "execution_count": 69,
     "metadata": {},
     "output_type": "execute_result"
    }
   ],
   "source": [
    "def khighest(filename,k):\n",
    "    mark = []\n",
    "    file1 = open(filename,'r')\n",
    "    for line in file1:\n",
    "        marks = line.split(',')\n",
    "        for i in marks:\n",
    "            mark.append(int(i))\n",
    "    mark.sort()  \n",
    "    return mark[-k]   \n",
    "\n",
    "filename=\"Datasets/marks.txt\"\n",
    "khighest(filename,6)"
   ]
  },
  {
   "cell_type": "markdown",
   "metadata": {},
   "source": [
    "    a group of students are members of a club that travels annually to different lo- cations. their destinations in the past have included indianapolis, phoenix, nashville, philadelphia, san jose, and atlanta. this spring they are planning a trip to eindhoven. the group agrees in advance to share expenses equally, but it is not practical to share every expense as it occurs. thus individuals in the group pay for particular things, such as meals, hotels, taxi rides, and plane tickets. after the trip, each student’s expenses are tallied and money is exchanged so that the net cost to each is the same, to within one cent. in the past, this money exchange has been tedious and time consuming. your job is to compute, from a list of expenses, the minimum amount of money that must change hands in order to equalize (within one cent) all the students’ costs. \n",
    "Input:\n",
    "    standard input will contain the information for several trips. each trip consists of a line containing a positive integer n denoting the number of students on the trip. this is followed by n lines of input, each containing the amount spent by a student in dollars and cents. there are no more than 1000 students and no student spent more than $10,000.00.A single line containing 0 follows the information for the last trip. output for each trip, \n",
    "Output:\n",
    "    A line stating the total amount of money, in dollars and cents, that must be exchanged to equalize the students’ costs. \n",
    " \n",
    " sample input\n",
    "    3 \n",
    "    10.00 \n",
    "    20.00 \n",
    "    30.00 \n",
    "    4 \n",
    "    15.00 \n",
    "    15.01 \n",
    "    3.00 \n",
    "    3.01 \n",
    "    0 \n",
    " sample output \n",
    "    $10.00 \n",
    "    $11.99"
   ]
  },
  {
   "cell_type": "code",
   "execution_count": 4,
   "metadata": {},
   "outputs": [
    {
     "name": "stdout",
     "output_type": "stream",
     "text": [
      "4\n",
      "15.00\n",
      "15.01\n",
      "3.00\n",
      "3.01\n"
     ]
    },
    {
     "data": {
      "text/plain": [
       "12.000000000000002"
      ]
     },
     "execution_count": 4,
     "metadata": {},
     "output_type": "execute_result"
    }
   ],
   "source": [
    "def AmountExchanged(x,Y):\n",
    "\n",
    "    current_spending = max(Y)\n",
    "    copy_list = Y.copy()\n",
    "    copy_list.sort()\n",
    "    current_spending1 = copy_list[-2]\n",
    "    Average_spending = sum(copy_list)/x\n",
    "    positive_differance = abs(Average_spending - current_spending)\n",
    "    Negative_difference = abs(Average_spending - current_spending1)\n",
    "    amount_exchanged = positive_differance + Negative_difference\n",
    "    \n",
    "    return amount_exchanged\n",
    "    \n",
    "x = int(input())\n",
    "Y = []\n",
    "\n",
    "for i in range(0,x):\n",
    "    Y.append(float(input()))\n",
    "    \n",
    "AmountExchanged(x,Y)"
   ]
  }
 ],
 "metadata": {
  "kernelspec": {
   "display_name": "Python 3",
   "language": "python",
   "name": "python3"
  },
  "language_info": {
   "codemirror_mode": {
    "name": "ipython",
    "version": 3
   },
   "file_extension": ".py",
   "mimetype": "text/x-python",
   "name": "python",
   "nbconvert_exporter": "python",
   "pygments_lexer": "ipython3",
   "version": "3.8.3"
  }
 },
 "nbformat": 4,
 "nbformat_minor": 4
}
